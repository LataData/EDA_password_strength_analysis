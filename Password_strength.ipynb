{
  "nbformat": 4,
  "nbformat_minor": 0,
  "metadata": {
    "colab": {
      "provenance": []
    },
    "kernelspec": {
      "name": "python3",
      "display_name": "Python 3"
    },
    "language_info": {
      "name": "python"
    }
  },
  "cells": [
    {
      "cell_type": "code",
      "execution_count": 1,
      "metadata": {
        "colab": {
          "base_uri": "https://localhost:8080/"
        },
        "id": "A7zHiOhYW2We",
        "outputId": "27067910-720c-4d94-fd35-cac4845ecc0e"
      },
      "outputs": [
        {
          "output_type": "stream",
          "name": "stdout",
          "text": [
            "Mounted at /content/drive\n"
          ]
        }
      ],
      "source": [
        "from google.colab import drive\n",
        "drive.mount('/content/drive')"
      ]
    },
    {
      "cell_type": "code",
      "source": [
        "import pandas as pd\n",
        "import numpy as np\n",
        "import matplotlib.pyplot as plt\n",
        "import seaborn as sns"
      ],
      "metadata": {
        "id": "Mlgd2TYqXn_n"
      },
      "execution_count": 2,
      "outputs": []
    },
    {
      "cell_type": "code",
      "source": [
        "df=pd.read_csv('/content/drive/MyDrive/Colab Notebooks/Password_strength/passwords.csv')\n",
        "#dataset link-https://www.kaggle.com/datasets/utkarshx27/passwords"
      ],
      "metadata": {
        "id": "AN_68ZRLW653"
      },
      "execution_count": 3,
      "outputs": []
    },
    {
      "cell_type": "code",
      "source": [
        "df.columns"
      ],
      "metadata": {
        "id": "da2uJ6yNXlXs",
        "colab": {
          "base_uri": "https://localhost:8080/"
        },
        "outputId": "20df2259-569b-40b6-a021-9d107c26c3a6"
      },
      "execution_count": 4,
      "outputs": [
        {
          "output_type": "execute_result",
          "data": {
            "text/plain": [
              "Index(['rank', 'password', 'category', 'value', 'time_unit',\n",
              "       'offline_crack_sec', 'rank_alt', 'strength', 'font_size'],\n",
              "      dtype='object')"
            ]
          },
          "metadata": {},
          "execution_count": 4
        }
      ]
    },
    {
      "cell_type": "code",
      "source": [
        "df.head()"
      ],
      "metadata": {
        "colab": {
          "base_uri": "https://localhost:8080/",
          "height": 206
        },
        "id": "vrV7rRe1bLMu",
        "outputId": "39c51e2a-e352-48c9-a669-f9259d6b302e"
      },
      "execution_count": 5,
      "outputs": [
        {
          "output_type": "execute_result",
          "data": {
            "text/plain": [
              "   rank  password             category  value time_unit  offline_crack_sec  \\\n",
              "0   1.0  password     password-related   6.91     years       2.170000e+00   \n",
              "1   2.0    123456  simple-alphanumeric  18.52   minutes       1.110000e-05   \n",
              "2   3.0  12345678  simple-alphanumeric   1.29      days       1.110000e-03   \n",
              "3   4.0      1234  simple-alphanumeric  11.11   seconds       1.110000e-07   \n",
              "4   5.0    qwerty  simple-alphanumeric   3.72      days       3.210000e-03   \n",
              "\n",
              "   rank_alt  strength  font_size  \n",
              "0       1.0       8.0       11.0  \n",
              "1       2.0       4.0        8.0  \n",
              "2       3.0       4.0        8.0  \n",
              "3       4.0       4.0        8.0  \n",
              "4       5.0       8.0       11.0  "
            ],
            "text/html": [
              "\n",
              "\n",
              "  <div id=\"df-e6bd58aa-3a10-44e7-9e8d-c297b6a3a4fb\">\n",
              "    <div class=\"colab-df-container\">\n",
              "      <div>\n",
              "<style scoped>\n",
              "    .dataframe tbody tr th:only-of-type {\n",
              "        vertical-align: middle;\n",
              "    }\n",
              "\n",
              "    .dataframe tbody tr th {\n",
              "        vertical-align: top;\n",
              "    }\n",
              "\n",
              "    .dataframe thead th {\n",
              "        text-align: right;\n",
              "    }\n",
              "</style>\n",
              "<table border=\"1\" class=\"dataframe\">\n",
              "  <thead>\n",
              "    <tr style=\"text-align: right;\">\n",
              "      <th></th>\n",
              "      <th>rank</th>\n",
              "      <th>password</th>\n",
              "      <th>category</th>\n",
              "      <th>value</th>\n",
              "      <th>time_unit</th>\n",
              "      <th>offline_crack_sec</th>\n",
              "      <th>rank_alt</th>\n",
              "      <th>strength</th>\n",
              "      <th>font_size</th>\n",
              "    </tr>\n",
              "  </thead>\n",
              "  <tbody>\n",
              "    <tr>\n",
              "      <th>0</th>\n",
              "      <td>1.0</td>\n",
              "      <td>password</td>\n",
              "      <td>password-related</td>\n",
              "      <td>6.91</td>\n",
              "      <td>years</td>\n",
              "      <td>2.170000e+00</td>\n",
              "      <td>1.0</td>\n",
              "      <td>8.0</td>\n",
              "      <td>11.0</td>\n",
              "    </tr>\n",
              "    <tr>\n",
              "      <th>1</th>\n",
              "      <td>2.0</td>\n",
              "      <td>123456</td>\n",
              "      <td>simple-alphanumeric</td>\n",
              "      <td>18.52</td>\n",
              "      <td>minutes</td>\n",
              "      <td>1.110000e-05</td>\n",
              "      <td>2.0</td>\n",
              "      <td>4.0</td>\n",
              "      <td>8.0</td>\n",
              "    </tr>\n",
              "    <tr>\n",
              "      <th>2</th>\n",
              "      <td>3.0</td>\n",
              "      <td>12345678</td>\n",
              "      <td>simple-alphanumeric</td>\n",
              "      <td>1.29</td>\n",
              "      <td>days</td>\n",
              "      <td>1.110000e-03</td>\n",
              "      <td>3.0</td>\n",
              "      <td>4.0</td>\n",
              "      <td>8.0</td>\n",
              "    </tr>\n",
              "    <tr>\n",
              "      <th>3</th>\n",
              "      <td>4.0</td>\n",
              "      <td>1234</td>\n",
              "      <td>simple-alphanumeric</td>\n",
              "      <td>11.11</td>\n",
              "      <td>seconds</td>\n",
              "      <td>1.110000e-07</td>\n",
              "      <td>4.0</td>\n",
              "      <td>4.0</td>\n",
              "      <td>8.0</td>\n",
              "    </tr>\n",
              "    <tr>\n",
              "      <th>4</th>\n",
              "      <td>5.0</td>\n",
              "      <td>qwerty</td>\n",
              "      <td>simple-alphanumeric</td>\n",
              "      <td>3.72</td>\n",
              "      <td>days</td>\n",
              "      <td>3.210000e-03</td>\n",
              "      <td>5.0</td>\n",
              "      <td>8.0</td>\n",
              "      <td>11.0</td>\n",
              "    </tr>\n",
              "  </tbody>\n",
              "</table>\n",
              "</div>\n",
              "      <button class=\"colab-df-convert\" onclick=\"convertToInteractive('df-e6bd58aa-3a10-44e7-9e8d-c297b6a3a4fb')\"\n",
              "              title=\"Convert this dataframe to an interactive table.\"\n",
              "              style=\"display:none;\">\n",
              "\n",
              "  <svg xmlns=\"http://www.w3.org/2000/svg\" height=\"24px\"viewBox=\"0 0 24 24\"\n",
              "       width=\"24px\">\n",
              "    <path d=\"M0 0h24v24H0V0z\" fill=\"none\"/>\n",
              "    <path d=\"M18.56 5.44l.94 2.06.94-2.06 2.06-.94-2.06-.94-.94-2.06-.94 2.06-2.06.94zm-11 1L8.5 8.5l.94-2.06 2.06-.94-2.06-.94L8.5 2.5l-.94 2.06-2.06.94zm10 10l.94 2.06.94-2.06 2.06-.94-2.06-.94-.94-2.06-.94 2.06-2.06.94z\"/><path d=\"M17.41 7.96l-1.37-1.37c-.4-.4-.92-.59-1.43-.59-.52 0-1.04.2-1.43.59L10.3 9.45l-7.72 7.72c-.78.78-.78 2.05 0 2.83L4 21.41c.39.39.9.59 1.41.59.51 0 1.02-.2 1.41-.59l7.78-7.78 2.81-2.81c.8-.78.8-2.07 0-2.86zM5.41 20L4 18.59l7.72-7.72 1.47 1.35L5.41 20z\"/>\n",
              "  </svg>\n",
              "      </button>\n",
              "\n",
              "\n",
              "\n",
              "    <div id=\"df-6df873a4-9673-446b-bf77-f8e71e10ff9f\">\n",
              "      <button class=\"colab-df-quickchart\" onclick=\"quickchart('df-6df873a4-9673-446b-bf77-f8e71e10ff9f')\"\n",
              "              title=\"Suggest charts.\"\n",
              "              style=\"display:none;\">\n",
              "\n",
              "<svg xmlns=\"http://www.w3.org/2000/svg\" height=\"24px\"viewBox=\"0 0 24 24\"\n",
              "     width=\"24px\">\n",
              "    <g>\n",
              "        <path d=\"M19 3H5c-1.1 0-2 .9-2 2v14c0 1.1.9 2 2 2h14c1.1 0 2-.9 2-2V5c0-1.1-.9-2-2-2zM9 17H7v-7h2v7zm4 0h-2V7h2v10zm4 0h-2v-4h2v4z\"/>\n",
              "    </g>\n",
              "</svg>\n",
              "      </button>\n",
              "    </div>\n",
              "\n",
              "<style>\n",
              "  .colab-df-quickchart {\n",
              "    background-color: #E8F0FE;\n",
              "    border: none;\n",
              "    border-radius: 50%;\n",
              "    cursor: pointer;\n",
              "    display: none;\n",
              "    fill: #1967D2;\n",
              "    height: 32px;\n",
              "    padding: 0 0 0 0;\n",
              "    width: 32px;\n",
              "  }\n",
              "\n",
              "  .colab-df-quickchart:hover {\n",
              "    background-color: #E2EBFA;\n",
              "    box-shadow: 0px 1px 2px rgba(60, 64, 67, 0.3), 0px 1px 3px 1px rgba(60, 64, 67, 0.15);\n",
              "    fill: #174EA6;\n",
              "  }\n",
              "\n",
              "  [theme=dark] .colab-df-quickchart {\n",
              "    background-color: #3B4455;\n",
              "    fill: #D2E3FC;\n",
              "  }\n",
              "\n",
              "  [theme=dark] .colab-df-quickchart:hover {\n",
              "    background-color: #434B5C;\n",
              "    box-shadow: 0px 1px 3px 1px rgba(0, 0, 0, 0.15);\n",
              "    filter: drop-shadow(0px 1px 2px rgba(0, 0, 0, 0.3));\n",
              "    fill: #FFFFFF;\n",
              "  }\n",
              "</style>\n",
              "\n",
              "    <script>\n",
              "      async function quickchart(key) {\n",
              "        const containerElement = document.querySelector('#' + key);\n",
              "        const charts = await google.colab.kernel.invokeFunction(\n",
              "            'suggestCharts', [key], {});\n",
              "      }\n",
              "    </script>\n",
              "\n",
              "      <script>\n",
              "\n",
              "function displayQuickchartButton(domScope) {\n",
              "  let quickchartButtonEl =\n",
              "    domScope.querySelector('#df-6df873a4-9673-446b-bf77-f8e71e10ff9f button.colab-df-quickchart');\n",
              "  quickchartButtonEl.style.display =\n",
              "    google.colab.kernel.accessAllowed ? 'block' : 'none';\n",
              "}\n",
              "\n",
              "        displayQuickchartButton(document);\n",
              "      </script>\n",
              "      <style>\n",
              "    .colab-df-container {\n",
              "      display:flex;\n",
              "      flex-wrap:wrap;\n",
              "      gap: 12px;\n",
              "    }\n",
              "\n",
              "    .colab-df-convert {\n",
              "      background-color: #E8F0FE;\n",
              "      border: none;\n",
              "      border-radius: 50%;\n",
              "      cursor: pointer;\n",
              "      display: none;\n",
              "      fill: #1967D2;\n",
              "      height: 32px;\n",
              "      padding: 0 0 0 0;\n",
              "      width: 32px;\n",
              "    }\n",
              "\n",
              "    .colab-df-convert:hover {\n",
              "      background-color: #E2EBFA;\n",
              "      box-shadow: 0px 1px 2px rgba(60, 64, 67, 0.3), 0px 1px 3px 1px rgba(60, 64, 67, 0.15);\n",
              "      fill: #174EA6;\n",
              "    }\n",
              "\n",
              "    [theme=dark] .colab-df-convert {\n",
              "      background-color: #3B4455;\n",
              "      fill: #D2E3FC;\n",
              "    }\n",
              "\n",
              "    [theme=dark] .colab-df-convert:hover {\n",
              "      background-color: #434B5C;\n",
              "      box-shadow: 0px 1px 3px 1px rgba(0, 0, 0, 0.15);\n",
              "      filter: drop-shadow(0px 1px 2px rgba(0, 0, 0, 0.3));\n",
              "      fill: #FFFFFF;\n",
              "    }\n",
              "  </style>\n",
              "\n",
              "      <script>\n",
              "        const buttonEl =\n",
              "          document.querySelector('#df-e6bd58aa-3a10-44e7-9e8d-c297b6a3a4fb button.colab-df-convert');\n",
              "        buttonEl.style.display =\n",
              "          google.colab.kernel.accessAllowed ? 'block' : 'none';\n",
              "\n",
              "        async function convertToInteractive(key) {\n",
              "          const element = document.querySelector('#df-e6bd58aa-3a10-44e7-9e8d-c297b6a3a4fb');\n",
              "          const dataTable =\n",
              "            await google.colab.kernel.invokeFunction('convertToInteractive',\n",
              "                                                     [key], {});\n",
              "          if (!dataTable) return;\n",
              "\n",
              "          const docLinkHtml = 'Like what you see? Visit the ' +\n",
              "            '<a target=\"_blank\" href=https://colab.research.google.com/notebooks/data_table.ipynb>data table notebook</a>'\n",
              "            + ' to learn more about interactive tables.';\n",
              "          element.innerHTML = '';\n",
              "          dataTable['output_type'] = 'display_data';\n",
              "          await google.colab.output.renderOutput(dataTable, element);\n",
              "          const docLink = document.createElement('div');\n",
              "          docLink.innerHTML = docLinkHtml;\n",
              "          element.appendChild(docLink);\n",
              "        }\n",
              "      </script>\n",
              "    </div>\n",
              "  </div>\n"
            ]
          },
          "metadata": {},
          "execution_count": 5
        }
      ]
    },
    {
      "cell_type": "code",
      "source": [
        "df.isnull().sum() #checking for nan values"
      ],
      "metadata": {
        "colab": {
          "base_uri": "https://localhost:8080/"
        },
        "id": "esOEiM-bbPM2",
        "outputId": "5498b8ce-f277-4eac-ad30-a2a59390e7ec"
      },
      "execution_count": 7,
      "outputs": [
        {
          "output_type": "execute_result",
          "data": {
            "text/plain": [
              "rank                 7\n",
              "password             7\n",
              "category             7\n",
              "value                7\n",
              "time_unit            7\n",
              "offline_crack_sec    7\n",
              "rank_alt             7\n",
              "strength             7\n",
              "font_size            7\n",
              "dtype: int64"
            ]
          },
          "metadata": {},
          "execution_count": 7
        }
      ]
    },
    {
      "cell_type": "code",
      "source": [
        "df.dropna(how='any',inplace=True) #deleting rows with nan"
      ],
      "metadata": {
        "id": "yT-X4Dp9cI9S"
      },
      "execution_count": 9,
      "outputs": []
    },
    {
      "cell_type": "code",
      "source": [
        "df.isnull().sum()"
      ],
      "metadata": {
        "colab": {
          "base_uri": "https://localhost:8080/"
        },
        "id": "dUU1BeoWcY_V",
        "outputId": "0786f295-db7b-4cd0-e843-75a399f46645"
      },
      "execution_count": 10,
      "outputs": [
        {
          "output_type": "execute_result",
          "data": {
            "text/plain": [
              "rank                 0\n",
              "password             0\n",
              "category             0\n",
              "value                0\n",
              "time_unit            0\n",
              "offline_crack_sec    0\n",
              "rank_alt             0\n",
              "strength             0\n",
              "font_size            0\n",
              "dtype: int64"
            ]
          },
          "metadata": {},
          "execution_count": 10
        }
      ]
    },
    {
      "cell_type": "code",
      "source": [
        "df_alt=df[['rank', 'password', 'category', 'value', 'time_unit','strength']] #selecting some important columns for analysing"
      ],
      "metadata": {
        "id": "TpeYaOJldqZ5"
      },
      "execution_count": 12,
      "outputs": []
    },
    {
      "cell_type": "code",
      "source": [
        "for col in df_alt.columns:\n",
        "  print(df_alt[col].value_counts())"
      ],
      "metadata": {
        "colab": {
          "base_uri": "https://localhost:8080/"
        },
        "id": "wBdrJ9ZTckLg",
        "outputId": "8f3473fd-0594-4db2-d588-fe5e31b92b69"
      },
      "execution_count": 13,
      "outputs": [
        {
          "output_type": "stream",
          "name": "stdout",
          "text": [
            "1.0      1\n",
            "330.0    1\n",
            "343.0    1\n",
            "342.0    1\n",
            "341.0    1\n",
            "        ..\n",
            "162.0    1\n",
            "161.0    1\n",
            "160.0    1\n",
            "159.0    1\n",
            "500.0    1\n",
            "Name: rank, Length: 500, dtype: int64\n",
            "password    1\n",
            "tester      1\n",
            "scott       1\n",
            "sydney      1\n",
            "skippy      1\n",
            "           ..\n",
            "miller      1\n",
            "lakers      1\n",
            "spider      1\n",
            "monster     1\n",
            "passw0rd    1\n",
            "Name: password, Length: 500, dtype: int64\n",
            "name                   183\n",
            "cool-macho              79\n",
            "simple-alphanumeric     61\n",
            "fluffy                  44\n",
            "sport                   37\n",
            "nerdy-pop               30\n",
            "animal                  29\n",
            "password-related        15\n",
            "food                    11\n",
            "rebellious-rude         11\n",
            "Name: category, dtype: int64\n",
            "3.72     233\n",
            "3.19      87\n",
            "6.91      56\n",
            "3.43      39\n",
            "7.92      31\n",
            "18.52     18\n",
            "11.11     11\n",
            "1.29       5\n",
            "2.56       5\n",
            "3.70       4\n",
            "92.27      4\n",
            "3.09       3\n",
            "1.85       2\n",
            "1.84       1\n",
            "17.28      1\n",
            "Name: value, dtype: int64\n",
            "days       238\n",
            "months      87\n",
            "years       65\n",
            "minutes     51\n",
            "hours       43\n",
            "seconds     11\n",
            "weeks        5\n",
            "Name: time_unit, dtype: int64\n",
            "8.0     162\n",
            "7.0     101\n",
            "6.0      76\n",
            "9.0      46\n",
            "0.0      30\n",
            "4.0      29\n",
            "5.0      17\n",
            "10.0     10\n",
            "3.0       7\n",
            "1.0       5\n",
            "36.0      3\n",
            "32.0      2\n",
            "46.0      2\n",
            "2.0       2\n",
            "25.0      1\n",
            "19.0      1\n",
            "38.0      1\n",
            "48.0      1\n",
            "35.0      1\n",
            "34.0      1\n",
            "21.0      1\n",
            "28.0      1\n",
            "Name: strength, dtype: int64\n"
          ]
        }
      ]
    },
    {
      "cell_type": "code",
      "source": [
        "df.dtypes"
      ],
      "metadata": {
        "colab": {
          "base_uri": "https://localhost:8080/"
        },
        "id": "jWFLEaU5eWmV",
        "outputId": "ff25a579-7ef2-4f94-d17b-12588baa6c7f"
      },
      "execution_count": 14,
      "outputs": [
        {
          "output_type": "execute_result",
          "data": {
            "text/plain": [
              "rank                 float64\n",
              "password              object\n",
              "category              object\n",
              "value                float64\n",
              "time_unit             object\n",
              "offline_crack_sec    float64\n",
              "rank_alt             float64\n",
              "strength             float64\n",
              "font_size            float64\n",
              "dtype: object"
            ]
          },
          "metadata": {},
          "execution_count": 14
        }
      ]
    },
    {
      "cell_type": "markdown",
      "source": [
        "rank-popularity in their database of released password\n",
        "\n",
        "Strength - quality of password where 10 is highest, 1 is lowest, please note that these are relative to these generally bad passwords\n",
        "\n",
        "##Lets find out popularity of passwords on the basis of strength\n",
        "#Observation:\n",
        "1. Strength=28.0 for the most popular password\n",
        "\n",
        "  \n",
        "2.password is 'passw0rd'"
      ],
      "metadata": {
        "id": "vIElbNL0e6zK"
      }
    },
    {
      "cell_type": "code",
      "source": [
        "df.strength.unique()"
      ],
      "metadata": {
        "colab": {
          "base_uri": "https://localhost:8080/"
        },
        "id": "bhwe8dLCjaPz",
        "outputId": "7599f9d4-6194-4605-cb75-092e559bb334"
      },
      "execution_count": 22,
      "outputs": [
        {
          "output_type": "execute_result",
          "data": {
            "text/plain": [
              "array([ 8.,  4.,  7.,  1., 32.,  9.,  0., 10., 25.,  6.,  3.,  5., 46.,\n",
              "        2., 19., 38., 48., 35., 36., 34., 21., 28.])"
            ]
          },
          "metadata": {},
          "execution_count": 22
        }
      ]
    },
    {
      "cell_type": "code",
      "source": [],
      "metadata": {
        "id": "Jg6ZaTGnlt1S"
      },
      "execution_count": null,
      "outputs": []
    },
    {
      "cell_type": "code",
      "source": [
        "sns.barplot(data=df, x='strength', y='rank')\n",
        "plt.xticks(x='strength', rotation='vertical')\n",
        "plt.show()"
      ],
      "metadata": {
        "colab": {
          "base_uri": "https://localhost:8080/",
          "height": 466
        },
        "id": "_VDF-GaodPKY",
        "outputId": "6dde7acc-0ee3-4089-c278-3656d1bb8edc"
      },
      "execution_count": 25,
      "outputs": [
        {
          "output_type": "display_data",
          "data": {
            "text/plain": [
              "<Figure size 640x480 with 1 Axes>"
            ],
            "image/png": "[encoded data removed]"
          },
          "metadata": {}
        }
      ]
    },
    {
      "cell_type": "code",
      "source": [
        "df[df['strength']==28.0] #most popular"
      ],
      "metadata": {
        "colab": {
          "base_uri": "https://localhost:8080/",
          "height": 81
        },
        "id": "C2vtlEQ9gEXd",
        "outputId": "5eb528c8-ad9e-4153-e4db-4ee5a4486035"
      },
      "execution_count": 26,
      "outputs": [
        {
          "output_type": "execute_result",
          "data": {
            "text/plain": [
              "      rank  password          category  value time_unit  offline_crack_sec  \\\n",
              "499  500.0  passw0rd  password-related  92.27     years              29.02   \n",
              "\n",
              "     rank_alt  strength  font_size  \n",
              "499     502.0      28.0       21.0  "
            ],
            "text/html": [
              "\n",
              "\n",
              "  <div id=\"df-46dfc913-cd74-46fe-9dc6-1763bf73f6ed\">\n",
              "    <div class=\"colab-df-container\">\n",
              "      <div>\n",
              "<style scoped>\n",
              "    .dataframe tbody tr th:only-of-type {\n",
              "        vertical-align: middle;\n",
              "    }\n",
              "\n",
              "    .dataframe tbody tr th {\n",
              "        vertical-align: top;\n",
              "    }\n",
              "\n",
              "    .dataframe thead th {\n",
              "        text-align: right;\n",
              "    }\n",
              "</style>\n",
              "<table border=\"1\" class=\"dataframe\">\n",
              "  <thead>\n",
              "    <tr style=\"text-align: right;\">\n",
              "      <th></th>\n",
              "      <th>rank</th>\n",
              "      <th>password</th>\n",
              "      <th>category</th>\n",
              "      <th>value</th>\n",
              "      <th>time_unit</th>\n",
              "      <th>offline_crack_sec</th>\n",
              "      <th>rank_alt</th>\n",
              "      <th>strength</th>\n",
              "      <th>font_size</th>\n",
              "    </tr>\n",
              "  </thead>\n",
              "  <tbody>\n",
              "    <tr>\n",
              "      <th>499</th>\n",
              "      <td>500.0</td>\n",
              "      <td>passw0rd</td>\n",
              "      <td>password-related</td>\n",
              "      <td>92.27</td>\n",
              "      <td>years</td>\n",
              "      <td>29.02</td>\n",
              "      <td>502.0</td>\n",
              "      <td>28.0</td>\n",
              "      <td>21.0</td>\n",
              "    </tr>\n",
              "  </tbody>\n",
              "</table>\n",
              "</div>\n",
              "      <button class=\"colab-df-convert\" onclick=\"convertToInteractive('df-46dfc913-cd74-46fe-9dc6-1763bf73f6ed')\"\n",
              "              title=\"Convert this dataframe to an interactive table.\"\n",
              "              style=\"display:none;\">\n",
              "\n",
              "  <svg xmlns=\"http://www.w3.org/2000/svg\" height=\"24px\"viewBox=\"0 0 24 24\"\n",
              "       width=\"24px\">\n",
              "    <path d=\"M0 0h24v24H0V0z\" fill=\"none\"/>\n",
              "    <path d=\"M18.56 5.44l.94 2.06.94-2.06 2.06-.94-2.06-.94-.94-2.06-.94 2.06-2.06.94zm-11 1L8.5 8.5l.94-2.06 2.06-.94-2.06-.94L8.5 2.5l-.94 2.06-2.06.94zm10 10l.94 2.06.94-2.06 2.06-.94-2.06-.94-.94-2.06-.94 2.06-2.06.94z\"/><path d=\"M17.41 7.96l-1.37-1.37c-.4-.4-.92-.59-1.43-.59-.52 0-1.04.2-1.43.59L10.3 9.45l-7.72 7.72c-.78.78-.78 2.05 0 2.83L4 21.41c.39.39.9.59 1.41.59.51 0 1.02-.2 1.41-.59l7.78-7.78 2.81-2.81c.8-.78.8-2.07 0-2.86zM5.41 20L4 18.59l7.72-7.72 1.47 1.35L5.41 20z\"/>\n",
              "  </svg>\n",
              "      </button>\n",
              "\n",
              "\n",
              "\n",
              "    <div id=\"df-d451885d-5a85-4f96-9cef-5d56bd7c7f19\">\n",
              "      <button class=\"colab-df-quickchart\" onclick=\"quickchart('df-d451885d-5a85-4f96-9cef-5d56bd7c7f19')\"\n",
              "              title=\"Suggest charts.\"\n",
              "              style=\"display:none;\">\n",
              "\n",
              "<svg xmlns=\"http://www.w3.org/2000/svg\" height=\"24px\"viewBox=\"0 0 24 24\"\n",
              "     width=\"24px\">\n",
              "    <g>\n",
              "        <path d=\"M19 3H5c-1.1 0-2 .9-2 2v14c0 1.1.9 2 2 2h14c1.1 0 2-.9 2-2V5c0-1.1-.9-2-2-2zM9 17H7v-7h2v7zm4 0h-2V7h2v10zm4 0h-2v-4h2v4z\"/>\n",
              "    </g>\n",
              "</svg>\n",
              "      </button>\n",
              "    </div>\n",
              "\n",
              "<style>\n",
              "  .colab-df-quickchart {\n",
              "    background-color: #E8F0FE;\n",
              "    border: none;\n",
              "    border-radius: 50%;\n",
              "    cursor: pointer;\n",
              "    display: none;\n",
              "    fill: #1967D2;\n",
              "    height: 32px;\n",
              "    padding: 0 0 0 0;\n",
              "    width: 32px;\n",
              "  }\n",
              "\n",
              "  .colab-df-quickchart:hover {\n",
              "    background-color: #E2EBFA;\n",
              "    box-shadow: 0px 1px 2px rgba(60, 64, 67, 0.3), 0px 1px 3px 1px rgba(60, 64, 67, 0.15);\n",
              "    fill: #174EA6;\n",
              "  }\n",
              "\n",
              "  [theme=dark] .colab-df-quickchart {\n",
              "    background-color: #3B4455;\n",
              "    fill: #D2E3FC;\n",
              "  }\n",
              "\n",
              "  [theme=dark] .colab-df-quickchart:hover {\n",
              "    background-color: #434B5C;\n",
              "    box-shadow: 0px 1px 3px 1px rgba(0, 0, 0, 0.15);\n",
              "    filter: drop-shadow(0px 1px 2px rgba(0, 0, 0, 0.3));\n",
              "    fill: #FFFFFF;\n",
              "  }\n",
              "</style>\n",
              "\n",
              "    <script>\n",
              "      async function quickchart(key) {\n",
              "        const containerElement = document.querySelector('#' + key);\n",
              "        const charts = await google.colab.kernel.invokeFunction(\n",
              "            'suggestCharts', [key], {});\n",
              "      }\n",
              "    </script>\n",
              "\n",
              "      <script>\n",
              "\n",
              "function displayQuickchartButton(domScope) {\n",
              "  let quickchartButtonEl =\n",
              "    domScope.querySelector('#df-d451885d-5a85-4f96-9cef-5d56bd7c7f19 button.colab-df-quickchart');\n",
              "  quickchartButtonEl.style.display =\n",
              "    google.colab.kernel.accessAllowed ? 'block' : 'none';\n",
              "}\n",
              "\n",
              "        displayQuickchartButton(document);\n",
              "      </script>\n",
              "      <style>\n",
              "    .colab-df-container {\n",
              "      display:flex;\n",
              "      flex-wrap:wrap;\n",
              "      gap: 12px;\n",
              "    }\n",
              "\n",
              "    .colab-df-convert {\n",
              "      background-color: #E8F0FE;\n",
              "      border: none;\n",
              "      border-radius: 50%;\n",
              "      cursor: pointer;\n",
              "      display: none;\n",
              "      fill: #1967D2;\n",
              "      height: 32px;\n",
              "      padding: 0 0 0 0;\n",
              "      width: 32px;\n",
              "    }\n",
              "\n",
              "    .colab-df-convert:hover {\n",
              "      background-color: #E2EBFA;\n",
              "      box-shadow: 0px 1px 2px rgba(60, 64, 67, 0.3), 0px 1px 3px 1px rgba(60, 64, 67, 0.15);\n",
              "      fill: #174EA6;\n",
              "    }\n",
              "\n",
              "    [theme=dark] .colab-df-convert {\n",
              "      background-color: #3B4455;\n",
              "      fill: #D2E3FC;\n",
              "    }\n",
              "\n",
              "    [theme=dark] .colab-df-convert:hover {\n",
              "      background-color: #434B5C;\n",
              "      box-shadow: 0px 1px 3px 1px rgba(0, 0, 0, 0.15);\n",
              "      filter: drop-shadow(0px 1px 2px rgba(0, 0, 0, 0.3));\n",
              "      fill: #FFFFFF;\n",
              "    }\n",
              "  </style>\n",
              "\n",
              "      <script>\n",
              "        const buttonEl =\n",
              "          document.querySelector('#df-46dfc913-cd74-46fe-9dc6-1763bf73f6ed button.colab-df-convert');\n",
              "        buttonEl.style.display =\n",
              "          google.colab.kernel.accessAllowed ? 'block' : 'none';\n",
              "\n",
              "        async function convertToInteractive(key) {\n",
              "          const element = document.querySelector('#df-46dfc913-cd74-46fe-9dc6-1763bf73f6ed');\n",
              "          const dataTable =\n",
              "            await google.colab.kernel.invokeFunction('convertToInteractive',\n",
              "                                                     [key], {});\n",
              "          if (!dataTable) return;\n",
              "\n",
              "          const docLinkHtml = 'Like what you see? Visit the ' +\n",
              "            '<a target=\"_blank\" href=https://colab.research.google.com/notebooks/data_table.ipynb>data table notebook</a>'\n",
              "            + ' to learn more about interactive tables.';\n",
              "          element.innerHTML = '';\n",
              "          dataTable['output_type'] = 'display_data';\n",
              "          await google.colab.output.renderOutput(dataTable, element);\n",
              "          const docLink = document.createElement('div');\n",
              "          docLink.innerHTML = docLinkHtml;\n",
              "          element.appendChild(docLink);\n",
              "        }\n",
              "      </script>\n",
              "    </div>\n",
              "  </div>\n"
            ]
          },
          "metadata": {},
          "execution_count": 26
        }
      ]
    },
    {
      "cell_type": "markdown",
      "source": [
        "##Top 10 passwords"
      ],
      "metadata": {
        "id": "B7wMjFHjmBEj"
      }
    },
    {
      "cell_type": "code",
      "source": [
        "df[df['rank']>=490]['password']"
      ],
      "metadata": {
        "colab": {
          "base_uri": "https://localhost:8080/"
        },
        "id": "Sr8sa1vKmAA4",
        "outputId": "dad77a09-a378-489c-9bb8-0580b272fefd"
      },
      "execution_count": 50,
      "outputs": [
        {
          "output_type": "execute_result",
          "data": {
            "text/plain": [
              "489      888888\n",
              "490     natasha\n",
              "491      sniper\n",
              "492      chance\n",
              "493     genesis\n",
              "494      hotrod\n",
              "495      reddog\n",
              "496    alexande\n",
              "497     college\n",
              "498      jester\n",
              "499    passw0rd\n",
              "Name: password, dtype: object"
            ]
          },
          "metadata": {},
          "execution_count": 50
        }
      ]
    },
    {
      "cell_type": "markdown",
      "source": [
        "##Share of different password category in the dataset\n",
        "#Observation:Name kind of passwords has the highest share"
      ],
      "metadata": {
        "id": "XqaIUMbsm2hf"
      }
    },
    {
      "cell_type": "code",
      "source": [
        "g=df.groupby('category')\n",
        "label=[i for i,d in g]\n",
        "label"
      ],
      "metadata": {
        "colab": {
          "base_uri": "https://localhost:8080/"
        },
        "id": "EzPDR4SEgtto",
        "outputId": "eb352e1b-9291-406b-c066-34c2e48536a0"
      },
      "execution_count": 37,
      "outputs": [
        {
          "output_type": "execute_result",
          "data": {
            "text/plain": [
              "['animal',\n",
              " 'cool-macho',\n",
              " 'fluffy',\n",
              " 'food',\n",
              " 'name',\n",
              " 'nerdy-pop',\n",
              " 'password-related',\n",
              " 'rebellious-rude',\n",
              " 'simple-alphanumeric',\n",
              " 'sport']"
            ]
          },
          "metadata": {},
          "execution_count": 37
        }
      ]
    },
    {
      "cell_type": "code",
      "source": [
        "count=[i for i in g.count()['rank']]\n",
        "count\n",
        "print(g.count()['rank'])"
      ],
      "metadata": {
        "colab": {
          "base_uri": "https://localhost:8080/"
        },
        "id": "zmEgm4gRmzHG",
        "outputId": "a5481ffa-ced7-4a0b-9420-cba49b42d538"
      },
      "execution_count": 49,
      "outputs": [
        {
          "output_type": "stream",
          "name": "stdout",
          "text": [
            "category\n",
            "animal                  29\n",
            "cool-macho              79\n",
            "fluffy                  44\n",
            "food                    11\n",
            "name                   183\n",
            "nerdy-pop               30\n",
            "password-related        15\n",
            "rebellious-rude         11\n",
            "simple-alphanumeric     61\n",
            "sport                   37\n",
            "Name: rank, dtype: int64\n"
          ]
        }
      ]
    },
    {
      "cell_type": "code",
      "source": [
        "plt.pie(count,labels=label,autopct='%0.2f')\n",
        "plt.show()"
      ],
      "metadata": {
        "colab": {
          "base_uri": "https://localhost:8080/",
          "height": 406
        },
        "id": "fIOTCp6ynzqF",
        "outputId": "9f877b40-68cd-4b02-e043-c073439e1ec2"
      },
      "execution_count": 48,
      "outputs": [
        {
          "output_type": "display_data",
          "data": {
            "text/plain": [
              "<Figure size 640x480 with 1 Axes>"
            ],
            "image/png": "[encoded data removed]"
          },
          "metadata": {}
        }
      ]
    },
    {
      "cell_type": "code",
      "source": [
        "df[df['category']=='name']['password']"
      ],
      "metadata": {
        "colab": {
          "base_uri": "https://localhost:8080/"
        },
        "id": "Ev30DcfOoAeW",
        "outputId": "57b5bf25-b816-46e1-95a0-7458b715a1d9"
      },
      "execution_count": 52,
      "outputs": [
        {
          "output_type": "execute_result",
          "data": {
            "text/plain": [
              "14      michael\n",
              "17     jennifer\n",
              "20       jordan\n",
              "21     superman\n",
              "28       thomas\n",
              "         ...   \n",
              "488      cassie\n",
              "490     natasha\n",
              "492      chance\n",
              "496    alexande\n",
              "498      jester\n",
              "Name: password, Length: 183, dtype: object"
            ]
          },
          "metadata": {},
          "execution_count": 52
        }
      ]
    },
    {
      "cell_type": "markdown",
      "source": [
        "Let us find out relation between offline crack time and online\n",
        "\n",
        "#Observation :Password which took years to crack are mainly of name type hence offline crack time is very less"
      ],
      "metadata": {
        "id": "NWXW8ZFYsred"
      }
    },
    {
      "cell_type": "code",
      "source": [
        "df_new=df[df['time_unit']=='years']\n",
        "df_new['category'].value_counts()"
      ],
      "metadata": {
        "colab": {
          "base_uri": "https://localhost:8080/"
        },
        "id": "LvbaeS-QsAVb",
        "outputId": "e381ced1-aebe-45e9-b31a-f319aafd0ca6"
      },
      "execution_count": 55,
      "outputs": [
        {
          "output_type": "execute_result",
          "data": {
            "text/plain": [
              "name                   22\n",
              "cool-macho             12\n",
              "nerdy-pop               7\n",
              "sport                   6\n",
              "simple-alphanumeric     6\n",
              "password-related        3\n",
              "fluffy                  3\n",
              "animal                  3\n",
              "rebellious-rude         2\n",
              "food                    1\n",
              "Name: category, dtype: int64"
            ]
          },
          "metadata": {},
          "execution_count": 55
        }
      ]
    },
    {
      "cell_type": "code",
      "source": [
        "g=df_new.groupby('category').mean()"
      ],
      "metadata": {
        "colab": {
          "base_uri": "https://localhost:8080/"
        },
        "id": "BhYaNxOItDjD",
        "outputId": "11a1618a-bb9d-4348-a3c6-8ecee639ac80"
      },
      "execution_count": 61,
      "outputs": [
        {
          "output_type": "stream",
          "name": "stderr",
          "text": [
            "<ipython-input-61-b023f36f9edf>:1: FutureWarning: The default value of numeric_only in DataFrameGroupBy.mean is deprecated. In a future version, numeric_only will default to False. Either specify numeric_only or select only columns which should be valid for the function.\n",
            "  g=df_new.groupby('category').mean()\n"
          ]
        }
      ]
    },
    {
      "cell_type": "code",
      "source": [
        "g['offline_crack_sec']"
      ],
      "metadata": {
        "colab": {
          "base_uri": "https://localhost:8080/"
        },
        "id": "ajFd5-CEuq41",
        "outputId": "c99b2ab2-6422-44b4-d6af-09b34f07b121"
      },
      "execution_count": 63,
      "outputs": [
        {
          "output_type": "execute_result",
          "data": {
            "text/plain": [
              "category\n",
              "animal                  2.170000\n",
              "cool-macho              2.170000\n",
              "fluffy                  2.170000\n",
              "food                    2.170000\n",
              "name                    2.170000\n",
              "nerdy-pop               5.421143\n",
              "password-related       11.120000\n",
              "rebellious-rude         2.170000\n",
              "simple-alphanumeric     6.190333\n",
              "sport                   6.686667\n",
              "Name: offline_crack_sec, dtype: float64"
            ]
          },
          "metadata": {},
          "execution_count": 63
        }
      ]
    },
    {
      "cell_type": "markdown",
      "source": [
        "font_size\tUsed to create the graphic for KIB\n",
        "##Observation:On average 'nerdy-pop' type of passwords has highest font_size"
      ],
      "metadata": {
        "id": "yGqRgLz6wBCx"
      }
    },
    {
      "cell_type": "code",
      "source": [
        "g1=df_new.groupby('category').mean()\n",
        "labels=[i for i,df in df_new.groupby('category') ]\n",
        "count=[i for i in g1['font_size']]"
      ],
      "metadata": {
        "colab": {
          "base_uri": "https://localhost:8080/"
        },
        "id": "i6yDcvauuwMj",
        "outputId": "8739332f-7d84-4ff7-a798-4fa79ac67f1a"
      },
      "execution_count": 66,
      "outputs": [
        {
          "output_type": "stream",
          "name": "stderr",
          "text": [
            "<ipython-input-66-210ba30ab424>:1: FutureWarning: The default value of numeric_only in DataFrameGroupBy.mean is deprecated. In a future version, numeric_only will default to False. Either specify numeric_only or select only columns which should be valid for the function.\n",
            "  g1=df_new.groupby('category').mean()\n"
          ]
        }
      ]
    },
    {
      "cell_type": "code",
      "source": [
        "plt.bar(labels,count)\n",
        "plt.xticks(x=labels, rotation='vertical')\n",
        "plt.xlabel('category')\n",
        "plt.ylabel('font_size')\n",
        "plt.show()"
      ],
      "metadata": {
        "colab": {
          "base_uri": "https://localhost:8080/",
          "height": 582
        },
        "id": "W-Ewa0_AwIdm",
        "outputId": "e1bd7366-369e-44fd-ab3d-a631fbf8b6fc"
      },
      "execution_count": 70,
      "outputs": [
        {
          "output_type": "display_data",
          "data": {
            "text/plain": [
              "<Figure size 640x480 with 1 Axes>"
            ],
            "image/png": "[encoded data removed]"
          },
          "metadata": {}
        }
      ]
    },
    {
      "cell_type": "code",
      "source": [],
      "metadata": {
        "id": "jyrNFEInxmgV"
      },
      "execution_count": null,
      "outputs": []
    }
  ]
}